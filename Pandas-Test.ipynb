{
 "cells": [
  {
   "cell_type": "markdown",
   "source": [
    "## 第一周Pandas测试题\n",
    "借用一下筑基课程的数据（"
   ],
   "metadata": {
    "collapsed": false,
    "pycharm": {
     "name": "#%% md\n"
    }
   }
  },
  {
   "cell_type": "markdown",
   "source": [
    "对 `test.csv` 依次进行以下操作并输出：\n",
    "1. 对所有乘客的年龄/Age列进行四舍五入\n",
    "2. 对所有乘客的年龄进行排序\n",
    "3. 查找未填写年龄与10岁以下乘客，并导出乘客ID（PassengerID列），姓名，性别，年龄，票号（Ticket列）到新文件 `under-10.csv`"
   ],
   "metadata": {
    "collapsed": false,
    "pycharm": {
     "name": "#%% md\n"
    }
   }
  },
  {
   "cell_type": "code",
   "execution_count": null,
   "outputs": [],
   "source": [
    "# 请在此填入代码"
   ],
   "metadata": {
    "collapsed": false,
    "pycharm": {
     "name": "#%%\n",
     "is_executing": true
    }
   }
  }
 ],
 "metadata": {
  "kernelspec": {
   "display_name": "Python 3",
   "language": "python",
   "name": "python3"
  },
  "language_info": {
   "codemirror_mode": {
    "name": "ipython",
    "version": 2
   },
   "file_extension": ".py",
   "mimetype": "text/x-python",
   "name": "python",
   "nbconvert_exporter": "python",
   "pygments_lexer": "ipython2",
   "version": "2.7.6"
  }
 },
 "nbformat": 4,
 "nbformat_minor": 0
}