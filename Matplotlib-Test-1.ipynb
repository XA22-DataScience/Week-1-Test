{
 "cells": [
  {
   "cell_type": "markdown",
   "id": "0212cd3c-7046-4df2-8240-2b2ee734c254",
   "metadata": {
    "pycharm": {
     "name": "#%% md\n"
    }
   },
   "source": [
    "# Matplotlib & Seaborn 预习进度考察"
   ]
  },
  {
   "cell_type": "code",
   "execution_count": 1,
   "id": "746a6c0d-dccf-48d4-9e91-169da0e54001",
   "metadata": {
    "pycharm": {
     "name": "#%%\n"
    }
   },
   "outputs": [],
   "source": [
    "import matplotlib as mpl\n",
    "import matplotlib.pyplot as plt\n",
    "import pandas as pd\n",
    "import seaborn as sns"
   ]
  },
  {
   "cell_type": "code",
   "execution_count": 8,
   "id": "e2c1b9a2-e199-4d14-b857-971373e97d51",
   "metadata": {
    "pycharm": {
     "name": "#%%\n"
    }
   },
   "outputs": [
    {
     "data": {
      "text/html": [
       "<div>\n",
       "<style scoped>\n",
       "    .dataframe tbody tr th:only-of-type {\n",
       "        vertical-align: middle;\n",
       "    }\n",
       "\n",
       "    .dataframe tbody tr th {\n",
       "        vertical-align: top;\n",
       "    }\n",
       "\n",
       "    .dataframe thead th {\n",
       "        text-align: right;\n",
       "    }\n",
       "</style>\n",
       "<table border=\"1\" class=\"dataframe\">\n",
       "  <thead>\n",
       "    <tr style=\"text-align: right;\">\n",
       "      <th></th>\n",
       "      <th>age</th>\n",
       "      <th>job</th>\n",
       "      <th>marital</th>\n",
       "      <th>education</th>\n",
       "      <th>default</th>\n",
       "      <th>housing</th>\n",
       "      <th>loan</th>\n",
       "      <th>contact</th>\n",
       "      <th>month</th>\n",
       "      <th>day_of_week</th>\n",
       "      <th>...</th>\n",
       "      <th>campaign</th>\n",
       "      <th>pdays</th>\n",
       "      <th>previous</th>\n",
       "      <th>poutcome</th>\n",
       "      <th>emp.var.rate</th>\n",
       "      <th>cons.price.idx</th>\n",
       "      <th>cons.conf.idx</th>\n",
       "      <th>euribor3m</th>\n",
       "      <th>nr.employed</th>\n",
       "      <th>y</th>\n",
       "    </tr>\n",
       "  </thead>\n",
       "  <tbody>\n",
       "    <tr>\n",
       "      <th>0</th>\n",
       "      <td>32</td>\n",
       "      <td>management</td>\n",
       "      <td>married</td>\n",
       "      <td>professional.course</td>\n",
       "      <td>unknown</td>\n",
       "      <td>no</td>\n",
       "      <td>no</td>\n",
       "      <td>cellular</td>\n",
       "      <td>jul</td>\n",
       "      <td>mon</td>\n",
       "      <td>...</td>\n",
       "      <td>4</td>\n",
       "      <td>999</td>\n",
       "      <td>0</td>\n",
       "      <td>nonexistent</td>\n",
       "      <td>1.4</td>\n",
       "      <td>93.918</td>\n",
       "      <td>-42.7</td>\n",
       "      <td>4.962</td>\n",
       "      <td>5228.1</td>\n",
       "      <td>no</td>\n",
       "    </tr>\n",
       "    <tr>\n",
       "      <th>1</th>\n",
       "      <td>41</td>\n",
       "      <td>admin.</td>\n",
       "      <td>married</td>\n",
       "      <td>high.school</td>\n",
       "      <td>no</td>\n",
       "      <td>yes</td>\n",
       "      <td>yes</td>\n",
       "      <td>cellular</td>\n",
       "      <td>apr</td>\n",
       "      <td>mon</td>\n",
       "      <td>...</td>\n",
       "      <td>1</td>\n",
       "      <td>999</td>\n",
       "      <td>0</td>\n",
       "      <td>nonexistent</td>\n",
       "      <td>-1.8</td>\n",
       "      <td>93.075</td>\n",
       "      <td>-47.1</td>\n",
       "      <td>1.405</td>\n",
       "      <td>5099.1</td>\n",
       "      <td>no</td>\n",
       "    </tr>\n",
       "    <tr>\n",
       "      <th>2</th>\n",
       "      <td>32</td>\n",
       "      <td>admin.</td>\n",
       "      <td>married</td>\n",
       "      <td>university.degree</td>\n",
       "      <td>no</td>\n",
       "      <td>yes</td>\n",
       "      <td>no</td>\n",
       "      <td>cellular</td>\n",
       "      <td>may</td>\n",
       "      <td>mon</td>\n",
       "      <td>...</td>\n",
       "      <td>2</td>\n",
       "      <td>999</td>\n",
       "      <td>0</td>\n",
       "      <td>nonexistent</td>\n",
       "      <td>-1.8</td>\n",
       "      <td>92.893</td>\n",
       "      <td>-46.2</td>\n",
       "      <td>1.299</td>\n",
       "      <td>5099.1</td>\n",
       "      <td>no</td>\n",
       "    </tr>\n",
       "    <tr>\n",
       "      <th>3</th>\n",
       "      <td>37</td>\n",
       "      <td>admin.</td>\n",
       "      <td>married</td>\n",
       "      <td>high.school</td>\n",
       "      <td>no</td>\n",
       "      <td>unknown</td>\n",
       "      <td>unknown</td>\n",
       "      <td>cellular</td>\n",
       "      <td>jul</td>\n",
       "      <td>thu</td>\n",
       "      <td>...</td>\n",
       "      <td>3</td>\n",
       "      <td>999</td>\n",
       "      <td>0</td>\n",
       "      <td>nonexistent</td>\n",
       "      <td>1.4</td>\n",
       "      <td>93.918</td>\n",
       "      <td>-42.7</td>\n",
       "      <td>4.968</td>\n",
       "      <td>5228.1</td>\n",
       "      <td>no</td>\n",
       "    </tr>\n",
       "    <tr>\n",
       "      <th>4</th>\n",
       "      <td>38</td>\n",
       "      <td>admin.</td>\n",
       "      <td>divorced</td>\n",
       "      <td>university.degree</td>\n",
       "      <td>no</td>\n",
       "      <td>no</td>\n",
       "      <td>no</td>\n",
       "      <td>cellular</td>\n",
       "      <td>jul</td>\n",
       "      <td>tue</td>\n",
       "      <td>...</td>\n",
       "      <td>8</td>\n",
       "      <td>999</td>\n",
       "      <td>0</td>\n",
       "      <td>nonexistent</td>\n",
       "      <td>1.4</td>\n",
       "      <td>93.918</td>\n",
       "      <td>-42.7</td>\n",
       "      <td>4.961</td>\n",
       "      <td>5228.1</td>\n",
       "      <td>no</td>\n",
       "    </tr>\n",
       "  </tbody>\n",
       "</table>\n",
       "<p>5 rows × 21 columns</p>\n",
       "</div>"
      ],
      "text/plain": [
       "   age         job   marital            education  default  housing     loan  \\\n",
       "0   32  management   married  professional.course  unknown       no       no   \n",
       "1   41      admin.   married          high.school       no      yes      yes   \n",
       "2   32      admin.   married    university.degree       no      yes       no   \n",
       "3   37      admin.   married          high.school       no  unknown  unknown   \n",
       "4   38      admin.  divorced    university.degree       no       no       no   \n",
       "\n",
       "    contact month day_of_week  ...  campaign  pdays  previous     poutcome  \\\n",
       "0  cellular   jul         mon  ...         4    999         0  nonexistent   \n",
       "1  cellular   apr         mon  ...         1    999         0  nonexistent   \n",
       "2  cellular   may         mon  ...         2    999         0  nonexistent   \n",
       "3  cellular   jul         thu  ...         3    999         0  nonexistent   \n",
       "4  cellular   jul         tue  ...         8    999         0  nonexistent   \n",
       "\n",
       "  emp.var.rate  cons.price.idx  cons.conf.idx  euribor3m  nr.employed   y  \n",
       "0          1.4          93.918          -42.7      4.962       5228.1  no  \n",
       "1         -1.8          93.075          -47.1      1.405       5099.1  no  \n",
       "2         -1.8          92.893          -46.2      1.299       5099.1  no  \n",
       "3          1.4          93.918          -42.7      4.968       5228.1  no  \n",
       "4          1.4          93.918          -42.7      4.961       5228.1  no  \n",
       "\n",
       "[5 rows x 21 columns]"
      ]
     },
     "execution_count": 8,
     "metadata": {},
     "output_type": "execute_result"
    }
   ],
   "source": [
    "bank = pd.read_csv(\"./bank-additional-train.csv\")\n",
    "bank.head()"
   ]
  },
  {
   "cell_type": "markdown",
   "id": "de0c3cb2-3f8f-473f-98ae-efde77419f42",
   "metadata": {
    "pycharm": {
     "name": "#%% md\n"
    }
   },
   "source": [
    "## 1.\n",
    "bank 变量储存的是一个银行的营销活动记录，请分别使用 Seaborn 和 Matplotlib 绘制这个银行的客户婚姻状况（ marital ），住房情况（ housing ），贷款状况（ loan ）和教育水平（ education ）的 bar graph 。**额外要求：x坐标必须是名称（比如：married, single or divorced ）而不是数值；必须要有正确的坐标系名称。[5]**"
   ]
  },
  {
   "cell_type": "code",
   "execution_count": null,
   "id": "09d7c208-ea17-465a-a7e4-50623be18b0f",
   "metadata": {
    "pycharm": {
     "name": "#%%\n"
    }
   },
   "outputs": [],
   "source": [
    "#Seaborn"
   ]
  },
  {
   "cell_type": "code",
   "execution_count": null,
   "id": "c70bf04e-852c-46b0-af0f-da9e9b8c5904",
   "metadata": {
    "pycharm": {
     "name": "#%%\n"
    }
   },
   "outputs": [],
   "source": [
    "#Matplotlib"
   ]
  },
  {
   "cell_type": "markdown",
   "id": "777f144f-09cd-4a41-9093-d1c49758abcd",
   "metadata": {
    "pycharm": {
     "name": "#%% md\n"
    }
   },
   "source": [
    "## 2.\n",
    "现在银行经理希望知道职位变化率（ emp.var.rate ）和客户信心指数（ cons.conf.idx ）之间的关系。请分别使用 Seaborn 和 Matplotlib 绘制这两个数据的 Scatter Graph 。**额外要求：必须要有正确的坐标系名称。[3]**"
   ]
  },
  {
   "cell_type": "code",
   "execution_count": null,
   "id": "2565598d-591b-458a-89bd-4ad28aae88f5",
   "metadata": {
    "pycharm": {
     "name": "#%%\n"
    }
   },
   "outputs": [],
   "source": [
    "#Seaborn"
   ]
  },
  {
   "cell_type": "code",
   "execution_count": null,
   "id": "e52dc729-70e2-47bf-bbc7-7e1230ccb672",
   "metadata": {
    "pycharm": {
     "name": "#%%\n"
    }
   },
   "outputs": [],
   "source": [
    "#Matplotlib"
   ]
  },
  {
   "cell_type": "markdown",
   "id": "29e2b842-b38d-4f6e-8eb5-491091c816c5",
   "metadata": {
    "pycharm": {
     "name": "#%% md\n"
    }
   },
   "source": [
    "# 3.\n",
    "最后，请分别使用 Seaborn（请使用 ```sns.histplot()```） 和 Matplotlib 绘制客户年龄的 histogram **额外要求：必须要有正确的坐标系名称。[3]**"
   ]
  },
  {
   "cell_type": "code",
   "execution_count": null,
   "id": "6ab02a4f-3c54-40bc-8be0-35bf57e55ea6",
   "metadata": {
    "pycharm": {
     "name": "#%%\n"
    }
   },
   "outputs": [],
   "source": [
    "#Seaborn"
   ]
  },
  {
   "cell_type": "code",
   "execution_count": null,
   "id": "dac66ee9-5199-429d-be92-53f324331043",
   "metadata": {
    "pycharm": {
     "name": "#%%\n"
    }
   },
   "outputs": [],
   "source": [
    "#Matplotlib"
   ]
  },
  {
   "cell_type": "markdown",
   "id": "e2832d8f-25ed-4018-98d6-8ced1f386f23",
   "metadata": {
    "pycharm": {
     "name": "#%% md\n"
    }
   },
   "source": [
    "## 答疑区\n",
    "如果你还有任何预习上的问题，请在下面写明："
   ]
  },
  {
   "cell_type": "markdown",
   "id": "4934a68e-5cfa-436b-bce2-c5f584635e90",
   "metadata": {
    "pycharm": {
     "name": "#%% md\n"
    }
   },
   "source": []
  },
  {
   "cell_type": "markdown",
   "id": "6d6be8fc-e899-442a-a9d1-4b1e3a6ac82f",
   "metadata": {
    "pycharm": {
     "name": "#%% md\n"
    }
   },
   "source": [
    "分数（格式 a/5 + b/3 + c/3 = d/11）："
   ]
  },
  {
   "cell_type": "code",
   "execution_count": null,
   "id": "007cfca5-4f28-4247-be66-4e40b1663096",
   "metadata": {
    "pycharm": {
     "name": "#%%\n"
    }
   },
   "outputs": [],
   "source": []
  }
 ],
 "metadata": {
  "kernelspec": {
   "display_name": "Python 3 (ipykernel)",
   "language": "python",
   "name": "python3"
  },
  "language_info": {
   "codemirror_mode": {
    "name": "ipython",
    "version": 3
   },
   "file_extension": ".py",
   "mimetype": "text/x-python",
   "name": "python",
   "nbconvert_exporter": "python",
   "pygments_lexer": "ipython3",
   "version": "3.7.12"
  }
 },
 "nbformat": 4,
 "nbformat_minor": 5
}